{
  "nbformat": 4,
  "nbformat_minor": 0,
  "metadata": {
    "colab": {
      "provenance": [],
      "authorship_tag": "ABX9TyNbwsfFmf/6T4w8VVZ0jj4w",
      "include_colab_link": true
    },
    "kernelspec": {
      "name": "python3",
      "display_name": "Python 3"
    },
    "language_info": {
      "name": "python"
    }
  },
  "cells": [
    {
      "cell_type": "markdown",
      "metadata": {
        "id": "view-in-github",
        "colab_type": "text"
      },
      "source": [
        "<a href=\"https://colab.research.google.com/github/salaruddin25/DSA0301-NLP/blob/main/question2.ipynb\" target=\"_parent\"><img src=\"https://colab.research.google.com/assets/colab-badge.svg\" alt=\"Open In Colab\"/></a>"
      ]
    },
    {
      "cell_type": "code",
      "execution_count": 1,
      "metadata": {
        "colab": {
          "base_uri": "https://localhost:8080/"
        },
        "id": "5ELuLkvvAlYW",
        "outputId": "ccbf99fc-62d5-4911-c501-2b2c9098efed"
      },
      "outputs": [
        {
          "output_type": "stream",
          "name": "stdout",
          "text": [
            "Input: 'aab' -> Accepted: True\n",
            "Input: 'ab' -> Accepted: True\n",
            "Input: 'babab' -> Accepted: True\n",
            "Input: 'abc' -> Accepted: False\n",
            "Input: 'ba' -> Accepted: False\n",
            "Input: '' -> Accepted: False\n"
          ]
        }
      ],
      "source": [
        "# Finite State Automaton to recognize strings ending with 'ab'\n",
        "\n",
        "class FSA:\n",
        "    def __init__(self):\n",
        "        # Define states\n",
        "        self.states = {'q0', 'q1', 'q2'}\n",
        "        # Define the start state\n",
        "        self.start_state = 'q0'\n",
        "        # Define the accept state(s)\n",
        "        self.accept_state = 'q2'\n",
        "        # Define transitions: (current_state, input) -> next_state\n",
        "        self.transitions = {\n",
        "            ('q0', 'a'): 'q1',\n",
        "            ('q0', 'b'): 'q0',\n",
        "            ('q1', 'a'): 'q1',\n",
        "            ('q1', 'b'): 'q2',\n",
        "            ('q2', 'a'): 'q1',\n",
        "            ('q2', 'b'): 'q0',\n",
        "        }\n",
        "        # Current state starts at start state\n",
        "        self.current_state = self.start_state\n",
        "\n",
        "    def reset(self):\n",
        "        self.current_state = self.start_state\n",
        "\n",
        "    def process(self, input_string):\n",
        "        self.reset()\n",
        "        for char in input_string:\n",
        "            if (self.current_state, char) in self.transitions:\n",
        "                self.current_state = self.transitions[(self.current_state, char)]\n",
        "            else:\n",
        "                # If there's no valid transition, the string is rejected\n",
        "                return False\n",
        "        # Check if we ended in an accept state\n",
        "        return self.current_state == self.accept_state\n",
        "\n",
        "\n",
        "# Example usage\n",
        "if __name__ == \"__main__\":\n",
        "    fsa = FSA()\n",
        "    test_strings = [\"aab\", \"ab\", \"babab\", \"abc\", \"ba\", \"\"]\n",
        "\n",
        "    for s in test_strings:\n",
        "        result = fsa.process(s)\n",
        "        print(f\"Input: '{s}' -> Accepted: {result}\")\n"
      ]
    }
  ]
}